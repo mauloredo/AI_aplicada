{
  "nbformat": 4,
  "nbformat_minor": 0,
  "metadata": {
    "colab": {
      "provenance": [],
      "authorship_tag": "ABX9TyOPSGQ0ftA2n7P/ecuol7Cl",
      "include_colab_link": true
    },
    "kernelspec": {
      "name": "python3",
      "display_name": "Python 3"
    },
    "language_info": {
      "name": "python"
    }
  },
  "cells": [
    {
      "cell_type": "markdown",
      "metadata": {
        "id": "view-in-github",
        "colab_type": "text"
      },
      "source": [
        "<a href=\"https://colab.research.google.com/github/mauloredo/AI_aplicada/blob/main/IA_aplicada_ejercicios.ipynb\" target=\"_parent\"><img src=\"https://colab.research.google.com/assets/colab-badge.svg\" alt=\"Open In Colab\"/></a>"
      ]
    },
    {
      "cell_type": "code",
      "execution_count": 2,
      "metadata": {
        "colab": {
          "base_uri": "https://localhost:8080/"
        },
        "id": "Db4Hvgk--Y5b",
        "outputId": "900cffc2-2400-47e5-8362-a7a8e794810d"
      },
      "outputs": [
        {
          "output_type": "stream",
          "name": "stdout",
          "text": [
            "<class 'pandas.core.frame.DataFrame'>\n",
            "RangeIndex: 6169 entries, 0 to 6168\n",
            "Data columns (total 9 columns):\n",
            " #   Column          Non-Null Count  Dtype \n",
            "---  ------          --------------  ----- \n",
            " 0   ID_compra       6169 non-null   int64 \n",
            " 1   ID_cliente      6169 non-null   int64 \n",
            " 2   ciudad          6169 non-null   object\n",
            " 3   estado          6169 non-null   object\n",
            " 4   region          6169 non-null   object\n",
            " 5   edad            6169 non-null   int64 \n",
            " 6   sexo_biologico  6169 non-null   object\n",
            " 7   cashback        6169 non-null   object\n",
            " 8   nota            6169 non-null   int64 \n",
            "dtypes: int64(4), object(5)\n",
            "memory usage: 433.9+ KB\n"
          ]
        },
        {
          "output_type": "execute_result",
          "data": {
            "text/plain": [
              "np.float64(8.44366996271681)"
            ]
          },
          "metadata": {},
          "execution_count": 2
        }
      ],
      "source": [
        "# Paso 1: Importar bibliotecas necesarias\n",
        "import pandas as pd\n",
        "\n",
        "# Paso 2: Definir las URLs de los archivos CSV\n",
        "url_clientes = \"https://gist.githubusercontent.com/ahcamachod/d08898e1cc84c7271856e78d9558ca3d/raw/2f7e1fa53711efe6433a5c5ec79948f600591cb9/clientes_zoop.csv\"\n",
        "url_ventas = \"https://gist.githubusercontent.com/ahcamachod/966d7162a3c3a2769b8770b35abf1bcc/raw/d79941b3fa46a450f3611589abd8663399c1277b/ventas_zoop.csv\"\n",
        "\n",
        "# Paso 3: Cargar los datos en DataFrames\n",
        "clientes = pd.read_csv(url_clientes)\n",
        "ventas = pd.read_csv(url_ventas)\n",
        "\n",
        "# Paso 4: Exploración inicial del DataFrame \"clientes\"\n",
        "\n",
        "# Ver las primeras filas\n",
        "clientes.head()\n",
        "\n",
        "# Información general sobre el DataFrame\n",
        "clientes.info()\n",
        "\n",
        "# Estadísticas descriptivas de columnas numéricas\n",
        "clientes.describe()\n",
        "\n",
        "# Distribución por región\n",
        "clientes['region'].value_counts()\n",
        "\n",
        "# Distribución por sexo biológico\n",
        "clientes['sexo_biologico'].value_counts()\n",
        "\n",
        "# Participación en el programa de cashback\n",
        "clientes['cashback'].value_counts()\n",
        "\n",
        "# Calificación promedio de las compras\n",
        "clientes['nota'].mean()\n"
      ]
    }
  ]
}